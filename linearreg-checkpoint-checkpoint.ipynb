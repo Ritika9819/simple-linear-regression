{
 "cells": [
  {
   "cell_type": "markdown",
   "metadata": {},
   "source": [
    "## Importing libraries"
   ]
  },
  {
   "cell_type": "code",
   "execution_count": 69,
   "metadata": {},
   "outputs": [],
   "source": [
    "import numpy as np \n",
    "import matplotlib.pyplot as plt \n",
    "%matplotlib inline  "
   ]
  },
  {
   "cell_type": "markdown",
   "metadata": {},
   "source": [
    "### linear regression formula-> yi=mx+c where m is the slope and c is the intercept"
   ]
  },
  {
   "cell_type": "markdown",
   "metadata": {},
   "source": [
    "## function for  determining the coefficients"
   ]
  },
  {
   "cell_type": "code",
   "execution_count": 70,
   "metadata": {},
   "outputs": [],
   "source": [
    "def estimate_coefficients(x,y):\n",
    "    n=np.size(x)\n",
    "    mean_x, mean_y = np.mean(x),np.mean(y) \n",
    "    SS_xy = np.sum(y*x -n*mean_y*mean_x)\n",
    "    SS_xx = np.sum(x*x -n*mean_x*mean_x)\n",
    "    \n",
    "    b_1 = SS_xy/SS_xx\n",
    "    b_0 = mean_y-b_1*mean_x\n",
    "    \n",
    "    return(b_0,b_1)    "
   ]
  },
  {
   "cell_type": "markdown",
   "metadata": {},
   "source": [
    "### n = no of observations\n",
    "### ss_xx and ss_xy =  sum of sqaured errors\n",
    "### b_1 = slope(m)\n",
    "### b_2 = intercept(c)"
   ]
  },
  {
   "cell_type": "markdown",
   "metadata": {},
   "source": [
    "## function to plot graph based on calculated values"
   ]
  },
  {
   "cell_type": "code",
   "execution_count": 75,
   "metadata": {},
   "outputs": [],
   "source": [
    "def plot_regression_line(x,y,b):\n",
    "    plt.scatter(x,y, color = 'b',s = 30)\n",
    "    y_pred = b[0]+b[1]*x\n",
    "    plt.plot(x,y_pred,color = 'r')\n",
    "    plt.title('linear code')\n",
    "    plt.xlabel('x-axis')\n",
    "    plt.ylabel('y-axis')\n",
    "    plt.show()"
   ]
  },
  {
   "cell_type": "markdown",
   "metadata": {},
   "source": [
    "### plt.scatter helps in points on graph\n",
    "### y_pred  predicts best fit line\n",
    "### plt.plot plots the regression line\n",
    "### plt.xlabel,ylabel puts labels on the graphs\n",
    "### plt.show shows the graph"
   ]
  },
  {
   "cell_type": "markdown",
   "metadata": {},
   "source": [
    "##                      Main function"
   ]
  },
  {
   "cell_type": "code",
   "execution_count": 76,
   "metadata": {},
   "outputs": [],
   "source": [
    "def main():\n",
    "    x = np.array([1,2,3,4,5,6,7,8,9,10])\n",
    "    y= np.array([300,350,500,700,800,850,900,900,1000,1200])\n",
    "    \n",
    "    b=estimate_coefficients(x,y)\n",
    "    print(\"estimated coeffiecients:\\nb_0 = {0} \\nb_1 = {1}\".format(b[0],b[1]))\n",
    "    print(x.shape)\n",
    "    print(y.shape)\n",
    "    plot_regression_line(x,y,b)"
   ]
  },
  {
   "cell_type": "code",
   "execution_count": 77,
   "metadata": {},
   "outputs": [
    {
     "name": "stdout",
     "output_type": "stream",
     "text": [
      "estimated coeffiecients:\n",
      "b_0 = -7.5 \n",
      "b_1 = 137.72727272727272\n",
      "(10,)\n",
      "(10,)\n"
     ]
    },
    {
     "data": {
      "image/png": "[encoded data removed]",
      "text/plain": [
       "<Figure size 432x288 with 1 Axes>"
      ]
     },
     "metadata": {
      "needs_background": "light"
     },
     "output_type": "display_data"
    }
   ],
   "source": [
    "main()"
   ]
  },
  {
   "cell_type": "markdown",
   "metadata": {},
   "source": [
    "            "
   ]
  },
  {
   "cell_type": "markdown",
   "metadata": {},
   "source": []
  },
  {
   "cell_type": "code",
   "execution_count": null,
   "metadata": {},
   "outputs": [],
   "source": []
  }
 ],
 "metadata": {
  "kernelspec": {
   "display_name": "Python 3",
   "language": "python",
   "name": "python3"
  },
  "language_info": {
   "codemirror_mode": {
    "name": "ipython",
    "version": 3
   },
   "file_extension": ".py",
   "mimetype": "text/x-python",
   "name": "python",
   "nbconvert_exporter": "python",
   "pygments_lexer": "ipython3",
   "version": "3.7.1"
  }
 },
 "nbformat": 4,
 "nbformat_minor": 2
}
